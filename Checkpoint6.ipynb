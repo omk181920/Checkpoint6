{
 "cells": [
  {
   "cell_type": "code",
   "execution_count": 2,
   "id": "ec7d1d36",
   "metadata": {},
   "outputs": [
    {
     "name": "stdout",
     "output_type": "stream",
     "text": [
      "[ 6  9 16 12 14]\n"
     ]
    }
   ],
   "source": [
    "#test\n",
    "import numpy as np \n",
    "a=np.array([1, 2, 3, 4, 5])\n",
    "b=np.array([5,7, 13,8,9])\n",
    "print(a+b)"
   ]
  },
  {
   "cell_type": "markdown",
   "id": "5492e0e4",
   "metadata": {},
   "source": [
    "# Question 1"
   ]
  },
  {
   "cell_type": "code",
   "execution_count": 10,
   "id": "ebd23b13",
   "metadata": {},
   "outputs": [
    {
     "name": "stdout",
     "output_type": "stream",
     "text": [
      "NumPy Array: [[ 1  2  3  4]\n",
      " [ 5  6  7  8]\n",
      " [ 9 10 11 12]]\n",
      "<class 'numpy.ndarray'>\n",
      "List: [[1, 2, 3, 4], [5, 6, 7, 8], [9, 10, 11, 12]]\n",
      "<class 'list'>\n"
     ]
    }
   ],
   "source": [
    "import numpy as np\n",
    "tab= np.array([[1,2,3,4], [5,6,7,8], [9,10,11,12]])\n",
    "print(f'NumPy Array: {tab}')\n",
    "print(type(tab))\n",
    "\n",
    "list1 = tab.tolist()\n",
    "print(f'List: {list1}')\n",
    "print(type(list1))\n"
   ]
  },
  {
   "cell_type": "markdown",
   "id": "e75664d9",
   "metadata": {},
   "source": [
    "# Question 2"
   ]
  },
  {
   "cell_type": "code",
   "execution_count": 48,
   "id": "a9fdcdd3",
   "metadata": {},
   "outputs": [
    {
     "name": "stdout",
     "output_type": "stream",
     "text": [
      "Original matrix: [[0 1 2]\n",
      " [3 4 5]]\n",
      "\n",
      " la somme des éléments diagonaux de la matrice est 4\n"
     ]
    }
   ],
   "source": [
    "import numpy as np\n",
    "m = np.arange(6).reshape(2,3)\n",
    "print(\"Original matrix:\",m)\n",
    "result =  np.trace(m)\n",
    "print(\"\\n la somme des éléments diagonaux de la matrice est\",result)"
   ]
  },
  {
   "cell_type": "code",
   "execution_count": 73,
   "id": "fd59706d",
   "metadata": {},
   "outputs": [
    {
     "name": "stdout",
     "output_type": "stream",
     "text": [
      "Original matrix:\n",
      "[[0 1 2]\n",
      " [3 4 5]\n",
      " [6 7 8]]\n",
      "la somme des éléments diagonaux de la matrice est 12\n"
     ]
    }
   ],
   "source": [
    "import numpy as np\n",
    "m = np.arange(9).reshape(3,3)\n",
    "print(\"Original matrix:\")\n",
    "print(m)\n",
    "z = 0\n",
    "for i in range(3):\n",
    "    z += m[i,i]\n",
    "print(\"la somme des éléments diagonaux de la matrice est\",z)"
   ]
  },
  {
   "cell_type": "markdown",
   "id": "ef9ab881",
   "metadata": {},
   "source": [
    "# Question 3"
   ]
  },
  {
   "cell_type": "code",
   "execution_count": 25,
   "id": "9e237eca",
   "metadata": {},
   "outputs": [
    {
     "name": "stdout",
     "output_type": "stream",
     "text": [
      "Choisissez une valeur appartenant a la matrice tab 3\n",
      "[[ 1  2  3  4]\n",
      " [ 5  6  7  8]\n",
      " [ 9 10 11 12]]\n",
      "alors voici tous les éléments appartenant au tab qu isont supérieur à x [3, 4, 5, 6, 7, 8, 9, 10, 11, 12]\n"
     ]
    }
   ],
   "source": [
    "import numpy as np\n",
    "tab= np.array([[1,2,3,4], [5,6,7,8], [9,10,11,12]])\n",
    "x = int(input(\"Choisissez une valeur appartenant a la matrice tab \"))\n",
    "print(tab)\n",
    "result = []\n",
    "for i in tab:\n",
    "    for z in i:\n",
    "        if(z >= x):\n",
    "            result.append(z) \n",
    "print(\"alors voici tous les éléments appartenant au tab qu isont supérieur à x\",result)"
   ]
  },
  {
   "cell_type": "markdown",
   "id": "594569d9",
   "metadata": {},
   "source": [
    "# Question 4"
   ]
  },
  {
   "cell_type": "code",
   "execution_count": 60,
   "id": "32e8d919",
   "metadata": {},
   "outputs": [
    {
     "name": "stdout",
     "output_type": "stream",
     "text": [
      "[[16 18  9  6  6]\n",
      " [14 11  5 12 10]\n",
      " [ 6  5  6  4  9]]\n",
      "\n",
      " [[ 6  7  8  7 12]\n",
      " [12  9  7  7  6]\n",
      " [ 7 11  6  7  7]]\n",
      "\n",
      " [[22 25 17 13 18]\n",
      " [26 20 12 19 16]\n",
      " [13 16 12 11 16]]\n"
     ]
    }
   ],
   "source": [
    "import numpy as np\n",
    "A=np.random.randint(2, 19, size=(3,5))\n",
    "print(A)\n",
    "\n",
    "B = np.random.randint(6, 14, size=(3,5))\n",
    "print(\"\\n\",B)\n",
    "\n",
    "C =np.add(A,B) #ou C= A+B \n",
    "print(\"\\n\",C)\n",
    "\n",
    "#x=np.array([[1,2],[3,4]], dtype=np.int32)\n",
    "#print(x)"
   ]
  },
  {
   "cell_type": "markdown",
   "id": "2cfa8374",
   "metadata": {},
   "source": [
    "# Question 5"
   ]
  },
  {
   "cell_type": "code",
   "execution_count": 86,
   "id": "175ad02f",
   "metadata": {},
   "outputs": [
    {
     "name": "stdout",
     "output_type": "stream",
     "text": [
      "[[ 8 16 15  2 16]\n",
      " [ 5 14 18 11 10]\n",
      " [ 8  7 18 17 18]]\n",
      "\n",
      " The mean of the array when axis = 1 :  [11.4 11.6 13.6]\n",
      "List: [11.4, 11.6, 13.6]\n",
      "[[-3  5  4 -9  5]\n",
      " [-7  2  6 -1 -2]\n",
      " [-6 -7  4  3  4]]\n"
     ]
    }
   ],
   "source": [
    "import numpy as np\n",
    "matrice1 = np.random.randint(2, 19, size=(3,5))\n",
    "print(matrice1)\n",
    "New_Tab = np.mean(matrice1, axis = 1)\n",
    "print(\"\\n The mean of the array when axis = 1 : \", New_Tab)\n",
    "list1 = New_Tab.tolist()\n",
    "print(f'List: {list1}')\n",
    "index = 0\n",
    "for i in matrice1 : \n",
    "    index2 = 0\n",
    "    for j in i:\n",
    "        matrice1[index,index2] -= round(list1[index])\n",
    "        index2 += 1\n",
    "    index += 1\n",
    "print(matrice1)"
   ]
  },
  {
   "cell_type": "code",
   "execution_count": null,
   "id": "e805077b",
   "metadata": {},
   "outputs": [],
   "source": []
  }
 ],
 "metadata": {
  "kernelspec": {
   "display_name": "Python 3",
   "language": "python",
   "name": "python3"
  },
  "language_info": {
   "codemirror_mode": {
    "name": "ipython",
    "version": 3
   },
   "file_extension": ".py",
   "mimetype": "text/x-python",
   "name": "python",
   "nbconvert_exporter": "python",
   "pygments_lexer": "ipython3",
   "version": "3.8.8"
  }
 },
 "nbformat": 4,
 "nbformat_minor": 5
}
